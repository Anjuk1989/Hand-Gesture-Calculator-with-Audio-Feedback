{
 "cells": [
  {
   "cell_type": "markdown",
   "id": "0eecf228",
   "metadata": {},
   "source": [
    "# ✋ Gesture Calculator\n",
    "This notebook supports:\n",
    "- Digits 0–9 (Right hand + Left hand)\n",
    "- Operators: `+`, `-`, `*`, `/` (Left hand)\n",
    "- `=` to evaluate\n",
    "- `U` to undo\n"
   ]
  },
  {
   "cell_type": "code",
   "execution_count": 17,
   "id": "ac3cdd3a",
   "metadata": {},
   "outputs": [],
   "source": [
    "\n",
    "import cv2\n",
    "import mediapipe as mp\n",
    "from collections import deque\n",
    "import time\n",
    "import pyttsx3"
   ]
  },
  {
   "cell_type": "code",
   "execution_count": 18,
   "id": "3cfec7ea",
   "metadata": {},
   "outputs": [],
   "source": [
    "engine = pyttsx3.init()\n",
    "engine.setProperty('rate', 150)\n",
    "engine.setProperty('volume', 1.0)"
   ]
  },
  {
   "cell_type": "code",
   "execution_count": 19,
   "id": "9b22c81e",
   "metadata": {},
   "outputs": [],
   "source": [
    "mp_hands = mp.solutions.hands\n",
    "mp_draw = mp.solutions.drawing_utils\n",
    "hands = mp_hands.Hands(max_num_hands=2, min_detection_confidence=0.7)"
   ]
  },
  {
   "cell_type": "code",
   "execution_count": 20,
   "id": "ae7853eb",
   "metadata": {},
   "outputs": [],
   "source": [
    "expression = \"\"\n",
    "current_number = \"\"\n",
    "result = \"\"\n",
    "gesture_buffer = deque(maxlen=5)\n",
    "gesture_cooldown = 1.2  # seconds\n",
    "gesture_timestamp = {}  # maps gestures to last time seen\n",
    "last_undo_triggered = False\n",
    "last_operator_gesture = None"
   ]
  },
  {
   "cell_type": "code",
   "execution_count": 21,
   "id": "c9a044d5",
   "metadata": {},
   "outputs": [],
   "source": [
    "def count_fingers(landmarks, label):\n",
    "    fingers = []\n",
    "    if label == \"Right\":\n",
    "        fingers.append(1 if landmarks[4].x < landmarks[3].x else 0)\n",
    "    else:\n",
    "        fingers.append(1 if landmarks[4].x > landmarks[3].x else 0)\n",
    "    for tip_id in [8, 12, 16, 20]:\n",
    "        fingers.append(1 if landmarks[tip_id].y < landmarks[tip_id - 2].y else 0)\n",
    "    return sum(fingers)\n",
    "\n"
   ]
  },
  {
   "cell_type": "code",
   "execution_count": 22,
   "id": "e3eb54ad",
   "metadata": {},
   "outputs": [],
   "source": [
    "def speak(text):\n",
    "    engine.say(text)\n",
    "    engine.runAndWait()"
   ]
  },
  {
   "cell_type": "code",
   "execution_count": 23,
   "id": "9cccf3a6",
   "metadata": {},
   "outputs": [],
   "source": [
    "def map_gesture(right_fingers, left_fingers):\n",
    "    if right_fingers is not None:\n",
    "        if left_fingers == 5 and 1 <= right_fingers <= 4:\n",
    "            return str(right_fingers + 5)  # 6–9\n",
    "        elif 0 <= right_fingers <= 5:\n",
    "            return str(right_fingers)     # 0–5\n",
    "\n",
    "    if left_fingers is not None:\n",
    "        return {\n",
    "            0: 'U',\n",
    "            1: '+',\n",
    "            2: '-',\n",
    "            3: '*',\n",
    "            4: '/',\n",
    "            5: '='\n",
    "        }.get(left_fingers, None)\n",
    "\n",
    "    return None"
   ]
  },
  {
   "cell_type": "code",
   "execution_count": 24,
   "id": "b9136cc8",
   "metadata": {},
   "outputs": [],
   "source": [
    "\n",
    "cap = cv2.VideoCapture(0)\n",
    "while True:\n",
    "    success, img = cap.read()\n",
    "    if not success:\n",
    "        continue\n",
    "\n",
    "    img = cv2.flip(img, 1)\n",
    "    img_rgb = cv2.cvtColor(img, cv2.COLOR_BGR2RGB)\n",
    "    results = hands.process(img_rgb)\n",
    "\n",
    "    right_fingers = None\n",
    "    left_fingers = None\n",
    "\n",
    "    if results.multi_hand_landmarks and results.multi_handedness:\n",
    "        for hand_landmarks, handedness in zip(results.multi_hand_landmarks, results.multi_handedness):\n",
    "            label = handedness.classification[0].label\n",
    "            mp_draw.draw_landmarks(img, hand_landmarks, mp_hands.HAND_CONNECTIONS)\n",
    "            finger_count = count_fingers(hand_landmarks.landmark, label)\n",
    "            if label == \"Right\":\n",
    "                right_fingers = finger_count\n",
    "            elif label == \"Left\":\n",
    "                left_fingers = finger_count\n",
    "\n",
    "    detected_gesture = map_gesture(right_fingers, left_fingers)\n",
    "\n",
    "    if detected_gesture:\n",
    "        gesture_buffer.append(detected_gesture)\n",
    "\n",
    "        if len(gesture_buffer) == gesture_buffer.maxlen and all(g == gesture_buffer[0] for g in gesture_buffer):\n",
    "            stable_gesture = gesture_buffer[0]\n",
    "            \n",
    "            now = time.time()\n",
    "            last_time = gesture_timestamp.get(stable_gesture, 0)\n",
    "\n",
    "            if now - last_time > gesture_cooldown:\n",
    "                gesture_timestamp[stable_gesture] = now\n",
    "\n",
    "                # 🔠 Gesture Handling\n",
    "                if stable_gesture.isdigit():\n",
    "                        if result:\n",
    "                            result = \"0\"  # Set result to zero on new input\n",
    "                        expression += stable_gesture\n",
    "                        speak(stable_gesture)\n",
    "                        last_operator_gesture = None\n",
    "                        gesture_buffer.clear()\n",
    "                elif stable_gesture in ['+', '-', '*', '/']:\n",
    "                        if result:\n",
    "                            result = \"0\"  # Set result to zero on new input\n",
    "                        if current_number:\n",
    "                            expression += current_number\n",
    "                            current_number = \"\"\n",
    "                        expression += stable_gesture\n",
    "                        speak({'+' : \"plus\", '-' : \"minus\", '*' : \"multiply\", '/' : \"divide\"}[stable_gesture])\n",
    "                        last_operator_gesture = stable_gesture\n",
    "                        gesture_buffer.clear()\n",
    "                elif stable_gesture == '=':\n",
    "                    try:\n",
    "                        result = str(eval(expression))\n",
    "                        speak(f\"The result is {result}\")\n",
    "                    except:\n",
    "                        result = \"Error\"\n",
    "                        speak(\"There was an error\")\n",
    "                    expression = \"\"\n",
    "                elif stable_gesture == 'U':  # Undo\n",
    "                    expression = expression[:-1]\n",
    "                    speak(\"Undo\")\n",
    "\n",
    "                gesture_buffer.clear()\n",
    "                last_gesture = stable_gesture\n",
    "                gesture_buffer.clear()\n",
    "\n",
    "    if detected_gesture != 'U':\n",
    "        last_undo_triggered = False\n",
    "\n",
    "    display_expr = expression + current_number\n",
    "\n",
    "    cv2.putText(img, f'Expression: {display_expr}', (10, 60),\n",
    "                cv2.FONT_HERSHEY_SIMPLEX, 1.1, (0, 0, 0), 2)\n",
    "    cv2.putText(img, f'Result: {result}', (10, 110),\n",
    "                cv2.FONT_HERSHEY_SIMPLEX, 1.3, (255, 0, 0), 3)\n",
    "\n",
    "    cv2.imshow(\"Gesture Calculator\", img)\n",
    "    if cv2.waitKey(1) & 0xFF == ord('q'):\n",
    "        break\n",
    "\n",
    "cap.release()\n",
    "cv2.destroyAllWindows()\n"
   ]
  }
 ],
 "metadata": {
  "kernelspec": {
   "display_name": "Python 3",
   "language": "python",
   "name": "python3"
  },
  "language_info": {
   "codemirror_mode": {
    "name": "ipython",
    "version": 3
   },
   "file_extension": ".py",
   "mimetype": "text/x-python",
   "name": "python",
   "nbconvert_exporter": "python",
   "pygments_lexer": "ipython3",
   "version": "3.9.6"
  }
 },
 "nbformat": 4,
 "nbformat_minor": 5
}
